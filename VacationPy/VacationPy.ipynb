{
 "cells": [
  {
   "cell_type": "markdown",
   "metadata": {},
   "source": [
    "## VacationPy"
   ]
  },
  {
   "cell_type": "code",
   "execution_count": null,
   "metadata": {},
   "outputs": [],
   "source": [
    "# Dependencies and Setup\n",
    "import matplotlib.pyplot as plt\n",
    "import pandas as pd\n",
    "import numpy as np\n",
    "import requests\n",
    "import gmaps\n",
    "import os\n",
    "\n",
    "# Import API key\n",
    "from api_keys import g_key"
   ]
  },
  {
   "cell_type": "markdown",
   "metadata": {},
   "source": [
    "### Store Part I results into DataFrame"
   ]
  },
  {
   "cell_type": "code",
   "execution_count": null,
   "metadata": {},
   "outputs": [],
   "source": [
    "# Load weather data from 'weatherpy'\n",
    "file = \"Cities.csv\"\n",
    "data = pd.read_csv(file)\n",
    "data"
   ]
  },
  {
   "cell_type": "code",
   "execution_count": null,
   "metadata": {},
   "outputs": [],
   "source": []
  },
  {
   "cell_type": "markdown",
   "metadata": {},
   "source": [
    "### Humidity Heatmap"
   ]
  },
  {
   "cell_type": "code",
   "execution_count": null,
   "metadata": {},
   "outputs": [],
   "source": [
    "# Access map with API key\n",
    "gmaps.configure(api_key=g_key)\n",
    "\n",
    "# DATA\n",
    "coordinates = data[['Latitude', 'Longitude']]\n",
    "humidity = data['Humidity']\n",
    "\n",
    "# Size of figure\n",
    "figure_layout = {\n",
    "    'width': '800px',\n",
    "    'height': '500px',\n",
    "    'border': '1px solid black',\n",
    "    'padding': '1px',\n",
    "    'margin': '0 auto 0 auto'\n",
    "}\n",
    "fig = gmaps.figure(layout=figure_layout)\n",
    "\n",
    "# Heat layer\n",
    "heat_layer = gmaps.heatmap_layer(coordinates, weights=humidity, dissipating=False,\n",
    "                                max_intensity=10, point_radius=1)\n",
    "\n",
    "# Add the layer to the map\n",
    "fig.add_layer(heat_layer)\n",
    "fig"
   ]
  },
  {
   "cell_type": "markdown",
   "metadata": {},
   "source": [
    "### Create new DataFrame fitting weather criteria"
   ]
  },
  {
   "cell_type": "code",
   "execution_count": null,
   "metadata": {},
   "outputs": [],
   "source": [
    "# This data for vacations... yaaay\n",
    "weather_conditions = data[(data['Cloudiness'] > 40) & (data['Humidity'] < 40)\n",
    "                             & (data['Max Temperature'] < 90) & (data['Wind Speed'] < 15)]\n",
    "\n",
    "# Latitude and longitude data\n",
    "weather_cond_coord =  weather_conditions[['Latitude', 'Longitude']]\n",
    "weather_conditions"
   ]
  },
  {
   "cell_type": "markdown",
   "metadata": {},
   "source": [
    "### Hotel Map"
   ]
  },
  {
   "cell_type": "code",
   "execution_count": null,
   "metadata": {},
   "outputs": [],
   "source": [
    "# Hotels information for the vacation cities\n",
    "hotel_data = []\n",
    "base_url = \"https://maps.googleapis.com/maps/api/place/nearbysearch/json?\"\n",
    "\n",
    "for index,row in weather_cond_coord.iterrows():\n",
    "    #dataset\n",
    "    x = row[0] #lat\n",
    "    y = row[1] #lng\n",
    "    xy = f\"{x},{y}\"\n",
    "    #print(xy)\n",
    "    \n",
    "    # call API\n",
    "    params = {\"location\": xy,\n",
    "          \"radius\": \"5000\",\n",
    "          \"keyword\": \"hotel\",\n",
    "          \"key\": g_key\n",
    "             }\n",
    "    try:\n",
    "        response = requests.get(base_url, params=params).json()\n",
    "        hotel_data.append(response['results'][0]['name'])\n",
    "    except:\n",
    "        hotel_data.append(np.nan)\n",
    "\n",
    "hotel_data"
   ]
  },
  {
   "cell_type": "code",
   "execution_count": null,
   "metadata": {},
   "outputs": [],
   "source": [
    "# Add hotel information to dataframe\n",
    "hotel_df = pd.Series(hotel_data)\n",
    "weather_conditions['Hotel Name'] = hotel_df.values # :E"
   ]
  },
  {
   "cell_type": "code",
   "execution_count": null,
   "metadata": {},
   "outputs": [],
   "source": [
    "# NOTE: Do not change any of the code in this cell\n",
    "\n",
    "# Using the template add the hotel marks to the heatmap\n",
    "info_box_template = \"\"\"\n",
    "<dl>\n",
    "<dt>Name</dt><dd>{Hotel Name}</dd>\n",
    "<dt>City</dt><dd>{City}</dd>\n",
    "<dt>Country</dt><dd>{Country}</dd>\n",
    "</dl>\n",
    "\"\"\"\n",
    "# Store the DataFrame Row\n",
    "# NOTE: be sure to update with your DataFrame name\n",
    "hotel_info = [info_box_template.format(**row) for index, row in weather_conditions.iterrows()]\n",
    "locations = weather_conditions[[\"Latitude\", \"Longitude\"]]"
   ]
  },
  {
   "cell_type": "code",
   "execution_count": null,
   "metadata": {},
   "outputs": [],
   "source": [
    "# Add marker layer ontop of heat map\n",
    "gmaps.configure(api_key=g_key)\n",
    "\n",
    "# Size of figure\n",
    "figure_layout = {\n",
    "    'width': '800px',\n",
    "    'height': '500px',\n",
    "    'border': '1px solid black',\n",
    "    'padding': '1px',\n",
    "    'margin': '0 auto 0 auto'\n",
    "}\n",
    "fig = gmaps.figure(layout=figure_layout)\n",
    "\n",
    "# Heat layer\n",
    "heat_layer = gmaps.heatmap_layer(locations, weights=weather_conditions['Humidity'], dissipating=False,\n",
    "                                max_intensity=10, point_radius=1)\n",
    "\n",
    "# Add the layer to the map\n",
    "fig.add_layer(heat_layer)\n",
    "#Display\n",
    "fig"
   ]
  },
  {
   "cell_type": "code",
   "execution_count": null,
   "metadata": {},
   "outputs": [],
   "source": []
  }
 ],
 "metadata": {
  "kernelspec": {
   "display_name": "Python 3.7.4 64-bit ('base': conda)",
   "language": "python",
   "name": "python37464bitbasecondaf8a42dbeb68b43b8ab181bef94341f6a"
  },
  "language_info": {
   "codemirror_mode": {
    "name": "ipython",
    "version": 3
   },
   "file_extension": ".py",
   "mimetype": "text/x-python",
   "name": "python",
   "nbconvert_exporter": "python",
   "pygments_lexer": "ipython3",
   "version": "3.7.4"
  }
 },
 "nbformat": 4,
 "nbformat_minor": 2
}

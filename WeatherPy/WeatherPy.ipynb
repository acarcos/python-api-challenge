{
 "cells": [
  {
   "cell_type": "markdown",
   "metadata": {},
   "source": [
    "#  WeatherPy"
   ]
  },
  {
   "cell_type": "code",
   "execution_count": null,
   "metadata": {},
   "outputs": [],
   "source": [
    "%matplotlib notebook\n",
    "\n",
    "# Dependencies and Setup\n",
    "import matplotlib.pyplot as plt\n",
    "import pandas as pd\n",
    "import numpy as np\n",
    "import requests\n",
    "import time\n",
    "import scipy.stats \n",
    "from datetime import datetime\n",
    "\n",
    "# Import API key\n",
    "from api_keys import weather_api_key\n",
    "\n",
    "# Incorporated citipy to determine city based on latitude and longitude\n",
    "from citipy import citipy\n",
    "\n",
    "# Output File (CSV)\n",
    "#output_data_file = \"output_data/cities.csv\"\n",
    "\n",
    "# Range of latitudes and longitudes\n",
    "lat_range = (-90, 90)\n",
    "lng_range = (-180, 180)"
   ]
  },
  {
   "cell_type": "markdown",
   "metadata": {},
   "source": [
    "## Generate Cities List"
   ]
  },
  {
   "cell_type": "code",
   "execution_count": null,
   "metadata": {},
   "outputs": [],
   "source": [
    "# List for holding lat_lngs and cities\n",
    "lat_lngs = []\n",
    "cities = []\n",
    "\n",
    "# No seed\n",
    "# Create a set of random lat and lng combinations\n",
    "lats = np.random.uniform(low=-90.000, high=90.000, size=1500)\n",
    "lngs = np.random.uniform(low=-180.000, high=180.000, size=1500)\n",
    "lat_lngs = zip(lats, lngs)\n",
    "\n",
    "# Identify nearest city for each lat, lng combination\n",
    "for lat_lng in lat_lngs:\n",
    "    city = citipy.nearest_city(lat_lng[0], lat_lng[1]).city_name\n",
    "    \n",
    "    # If the city is unique, then add it to a our cities list\n",
    "    if city not in cities:\n",
    "        cities.append(city)\n",
    "\n",
    "# Print the city count to confirm sufficient count\n",
    "len(cities)"
   ]
  },
  {
   "cell_type": "markdown",
   "metadata": {},
   "source": [
    "## Perform API Calls"
   ]
  },
  {
   "cell_type": "code",
   "execution_count": null,
   "metadata": {},
   "outputs": [],
   "source": [
    "# Weather data\n",
    "url = \"http://api.openweathermap.org/data/2.5/weather?\"\n",
    "units = \"imperial\"\n",
    "\n",
    "# Lists of data\n",
    "cloudiness = []\n",
    "humidity =[]\n",
    "latz = [] \n",
    "lngz = [] \n",
    "max_temp = [] \n",
    "wind_speed = []\n",
    "country = []\n",
    "date = []\n",
    "\n",
    "# Get Weather API\n",
    "num = 1\n",
    "for city in cities:\n",
    "    query_url = f\"{url}q={city}&units={units}&appid={weather_api_key}\" \n",
    "    response = requests.get(query_url).json()\n",
    "    try:\n",
    "        print(f\"City #{num}: \" + city.title())\n",
    "        num += 1\n",
    "        cloudiness.append(response['clouds']['all'])\n",
    "        country.append(response['sys']['country'])\n",
    "        date.append(response['dt'])\n",
    "        humidity.append(response['main']['humidity'])\n",
    "        latz.append(response['coord']['lat'])\n",
    "        lngz.append(response['coord']['lon'])\n",
    "        max_temp.append(response['main']['temp_max'])\n",
    "        wind_speed.append(response['wind']['speed'])\n",
    "    except: # If info is not available\n",
    "        cloudiness.append(np.nan)\n",
    "        country.append(np.nan)\n",
    "        date.append(np.nan)\n",
    "        humidity.append(np.nan)\n",
    "        latz.append(np.nan)\n",
    "        lngz.append(np.nan)\n",
    "        max_temp.append(np.nan)\n",
    "        wind_speed.append(np.nan)"
   ]
  },
  {
   "cell_type": "code",
   "execution_count": null,
   "metadata": {},
   "outputs": [],
   "source": []
  },
  {
   "cell_type": "markdown",
   "metadata": {},
   "source": [
    "## Convert Raw Data to DataFrame"
   ]
  },
  {
   "cell_type": "code",
   "execution_count": null,
   "metadata": {},
   "outputs": [],
   "source": [
    "df_cities = pd.DataFrame({\"City\": cities, \"Country\": country, \"Cloudiness\": cloudiness, \"Date\": date, \n",
    "                         \"Humidity\": humidity, \"Latitude\": latz, \"Longitude\": lngz, \n",
    "                          \"Max Temperature\": max_temp, \"Wind Speed\": wind_speed})\n",
    "\n",
    "#df_cities\n",
    "# Drop NaN values\n",
    "clean_df_cities = df_cities.dropna(how='any') \n",
    "\n",
    "# Export data\n",
    "clean_df_cities.to_csv(\"Cities.csv\", index=False, header=True)\n",
    "clean_df_cities"
   ]
  },
  {
   "cell_type": "code",
   "execution_count": null,
   "metadata": {},
   "outputs": [],
   "source": [
    "# For dates\n",
    "t = clean_df_cities.iloc[0,3]\n",
    "date_obj = datetime.fromtimestamp(t)\n",
    "df_date = date_obj.strftime(\"%m/%d/%Y\")\n",
    "#print(df_date)"
   ]
  },
  {
   "cell_type": "markdown",
   "metadata": {},
   "source": [
    "## Ploting the Data"
   ]
  },
  {
   "cell_type": "code",
   "execution_count": null,
   "metadata": {},
   "outputs": [],
   "source": [
    "# LATITUDE VS TEMPERATURE PLOT\n",
    "plt.scatter(clean_df_cities['Latitude'], clean_df_cities['Max Temperature'], marker='+', color='purple')\n",
    "plt.xlabel(\"Latitude\")\n",
    "plt.ylabel(\"Max Temperature (F)\")\n",
    "plt.title(\"Latitude & Max Temperature at \" + df_date) # La fecha no se :s"
   ]
  },
  {
   "cell_type": "markdown",
   "metadata": {},
   "source": [
    "* In this plot the latitude and maximum temperature are plotted. Since we are analyzing the weather and which places are hotter, we start analyzing our data from the equator. The equator is considered as zero value in latitude.  So, if the value is positive, the imaginary line parallel to equator goes to the northern hemisphere, and if it is negative, goes to the southern hemisphere."
   ]
  },
  {
   "cell_type": "code",
   "execution_count": null,
   "metadata": {},
   "outputs": [],
   "source": [
    "# LATITUDE VS HUMIDITY PLOT\n",
    "plt.scatter(clean_df_cities['Latitude'], clean_df_cities['Humidity'], marker='+', color='royalblue')\n",
    "plt.xlabel(\"Latitude\")\n",
    "plt.ylabel(\"Humidity (%)\")\n",
    "plt.title('Latitude & Humidity at ' + df_date)"
   ]
  },
  {
   "cell_type": "markdown",
   "metadata": {},
   "source": [
    "* Here, the latitude and humidity are plotted. In some cases, the humidity can be related to the temperature or the thermal sensation in certain zones."
   ]
  },
  {
   "cell_type": "code",
   "execution_count": null,
   "metadata": {},
   "outputs": [],
   "source": [
    "# LATITUDE VS CLOUDINESS PLOT\n",
    "plt.scatter(clean_df_cities['Latitude'], clean_df_cities['Cloudiness'], marker='+', color='darkgreen')\n",
    "plt.xlabel(\"Latitude\")\n",
    "plt.ylabel(\"Cloudiness (%)\")\n",
    "plt.title(\"Latitude & Cloudiness at \"+ df_date)"
   ]
  },
  {
   "cell_type": "markdown",
   "metadata": {},
   "source": [
    " * In this graph, the latitude and cloudiness percentage are plotted to know if there is a relation between these two and weather conditions."
   ]
  },
  {
   "cell_type": "code",
   "execution_count": null,
   "metadata": {},
   "outputs": [],
   "source": [
    "# LATITUDE VS WIND SPEED PLOT\n",
    "plt.scatter(clean_df_cities['Latitude'], clean_df_cities['Wind Speed'], marker='+', color='darkgoldenrod')\n",
    "plt.xlabel(\"Latitude\")\n",
    "plt.ylabel(\"Wind Speed (mph)\")\n",
    "plt.title(\"Latitude & Wind Speed at \" + df_date)"
   ]
  },
  {
   "cell_type": "markdown",
   "metadata": {},
   "source": [
    "* The latitude and wind speed are plotted in this figure. The wind speed could be a factor of thermal sensation depending of the temperature of the wind."
   ]
  },
  {
   "cell_type": "markdown",
   "metadata": {},
   "source": [
    "## Linear Regression"
   ]
  },
  {
   "cell_type": "code",
   "execution_count": null,
   "metadata": {},
   "outputs": [],
   "source": [
    "# OPTIONAL: Create a function to create Linear Regression plots\n",
    "def lin_reg(data_x, data_y):\n",
    "    (d_slope, d_int, d_r, d_p, d_std_err) = scipy.stats.linregress(data_x,data_y)\n",
    "    d_fit = d_slope * data_x + d_int\n",
    "    line_eq = \"y = \" + str(round(d_slope,2)) + \"x + \" + str(round(d_int,2))\n",
    "    #print(line_eq) \n",
    "    return d_fit, line_eq, d_r"
   ]
  },
  {
   "cell_type": "markdown",
   "metadata": {},
   "source": [
    "## Northern and Southern Hemisphere DF"
   ]
  },
  {
   "cell_type": "markdown",
   "metadata": {},
   "source": [
    "* In the next plots we show the relationship between the parameters plotted. Analyzing each hemisphere gives a better close up of the data points and a better aproximation of their correlation to other parameters. Using the r squared value help us to know how close or how far the correlation is, close to 1 is a good relationship, close to 0 there is not a relationship."
   ]
  },
  {
   "cell_type": "code",
   "execution_count": null,
   "metadata": {},
   "outputs": [],
   "source": [
    "# Create Northern and Southern Hemisphere DataFrames\n",
    "# North latitude +90, South latitude -90\n",
    "north_cities = clean_df_cities.loc[clean_df_cities['Latitude'] >= 0.0]\n",
    "south_cities = clean_df_cities.loc[clean_df_cities['Latitude'] < 0.0]"
   ]
  },
  {
   "cell_type": "code",
   "execution_count": null,
   "metadata": {},
   "outputs": [],
   "source": [
    "# NORTHERN HEMISPHERE - MAX TEMPERATURE VS LATITUDE LINEAR REGRESSION\n",
    "y_axis = north_cities['Max Temperature'] \n",
    "x_axis = north_cities['Latitude']\n",
    "reg = lin_reg(x_axis,y_axis)\n",
    "plt.scatter(x_axis, y_axis, marker='.', color='goldenrod')\n",
    "plt.plot(x_axis,reg[0],\"m-\")\n",
    "plt.annotate(reg[1],(6,10),fontsize=15,color=\"m\") \n",
    "plt.xlabel('Latitude')\n",
    "plt.ylabel('Max Temperature')\n",
    "plt.title(\"Northern Hemisphere & Max Temperature at \" + df_date)\n",
    "print(f\"The r-squared is: {reg[2]}\")"
   ]
  },
  {
   "cell_type": "code",
   "execution_count": null,
   "metadata": {},
   "outputs": [],
   "source": [
    "# SOUTHERN HEMISPHERE - MAX TEMPERATURE VS LATITUDE LINEAR REGRESSION\n",
    "y_axis = south_cities['Max Temperature'] \n",
    "x_axis = south_cities['Latitude']\n",
    "reg = lin_reg(x_axis,y_axis)\n",
    "plt.scatter(x_axis, y_axis, marker='.', color='slategray')\n",
    "plt.plot(x_axis,reg[0],\"b-\")\n",
    "plt.annotate(reg[1],(-30,50),fontsize=15,color=\"b\") \n",
    "plt.xlabel('Latitude')\n",
    "plt.ylabel('Max Temperature')\n",
    "plt.title(\"Southern Hemisphere & Max Temperature at \" + df_date)\n",
    "print(f\"The r-squared is: {reg[2]}\")"
   ]
  },
  {
   "cell_type": "code",
   "execution_count": null,
   "metadata": {},
   "outputs": [],
   "source": [
    "# NORTHERN HEMISPHERE - HUMIDITY VS LATITUDE LINEAR REGRESSION\n",
    "y_axis = north_cities['Humidity'] \n",
    "x_axis = north_cities['Latitude']\n",
    "reg = lin_reg(x_axis,y_axis)\n",
    "plt.scatter(x_axis, y_axis, marker='.', color='goldenrod')\n",
    "plt.plot(x_axis,reg[0],\"m-\")\n",
    "plt.annotate(reg[1],(40,10),fontsize=15,color=\"m\") \n",
    "plt.xlabel('Latitude')\n",
    "plt.ylabel('Humidity (%)')\n",
    "plt.title(\"Northern Hemisphere & Humidity at \" + df_date)\n",
    "print(f\"The r-squared is: {reg[2]}\")"
   ]
  },
  {
   "cell_type": "code",
   "execution_count": null,
   "metadata": {},
   "outputs": [],
   "source": [
    "# SOUTHERN HEMISPHERE - HUMIDITY VS LATITUDE LINEAR REGRESSION\n",
    "y_axis = south_cities['Max Temperature'] \n",
    "x_axis = south_cities['Latitude']\n",
    "reg = lin_reg(x_axis,y_axis)\n",
    "plt.scatter(x_axis, y_axis, marker='.', color='slategray')\n",
    "plt.plot(x_axis,reg[0],\"b-\")\n",
    "plt.annotate(reg[1],(-40,50),fontsize=15,color=\"b\") \n",
    "plt.xlabel('Latitude')\n",
    "plt.ylabel('Humidity (%)')\n",
    "plt.title(\"Southern Hemisphere & Humidity at \" + df_date)\n",
    "print(f\"The r-squared is: {reg[2]}\")"
   ]
  },
  {
   "cell_type": "code",
   "execution_count": null,
   "metadata": {},
   "outputs": [],
   "source": [
    "# NORTHERN HEMISPHERE - CLOUDINESS VS LATITUDE LINEAR REGRESSION\n",
    "y_axis = north_cities['Cloudiness'] \n",
    "x_axis = north_cities['Latitude']\n",
    "reg = lin_reg(x_axis,y_axis)\n",
    "plt.scatter(x_axis, y_axis, marker='.', color='goldenrod')\n",
    "plt.plot(x_axis,reg[0],\"m-\")\n",
    "plt.annotate(reg[1],(2,10),fontsize=15,color=\"m\") \n",
    "plt.xlabel('Latitude')\n",
    "plt.ylabel('Cloudiness (%)')\n",
    "plt.title(\"Northern Hemisphere & Cloudiness at \" + df_date)\n",
    "print(f\"The r-squared is: {reg[2]}\")"
   ]
  },
  {
   "cell_type": "code",
   "execution_count": null,
   "metadata": {},
   "outputs": [],
   "source": [
    "# SOUTHERN HEMISPHERE - CLOUDINESS VS LATITUDE LINEAR REGRESSION\n",
    "y_axis = south_cities['Cloudiness'] \n",
    "x_axis = south_cities['Latitude']\n",
    "reg = lin_reg(x_axis,y_axis)\n",
    "plt.scatter(x_axis, y_axis, marker='.', color='slategray')\n",
    "plt.plot(x_axis,reg[0],\"m-\")\n",
    "plt.annotate(reg[1],(-22,5),fontsize=15,color=\"m\") \n",
    "plt.xlabel('Latitude')\n",
    "plt.ylabel('Cloudiness (%)')\n",
    "plt.title(\"Southern Hemisphere & Cloudiness at \" + df_date)\n",
    "print(f\"The r-squared is: {reg[2]}\")"
   ]
  },
  {
   "cell_type": "code",
   "execution_count": null,
   "metadata": {},
   "outputs": [],
   "source": [
    "# NORTHERN HEMISPHERE - WIND SPEED VS LATITUDE LINEAR REGRESSION\n",
    "y_axis = north_cities['Wind Speed'] \n",
    "x_axis = north_cities['Latitude']\n",
    "reg = lin_reg(x_axis,y_axis)\n",
    "plt.scatter(x_axis, y_axis, marker='.', color='goldenrod')\n",
    "plt.plot(x_axis,reg[0],\"m-\")\n",
    "plt.annotate(reg[1],(2,30),fontsize=15,color=\"m\") \n",
    "plt.xlabel('Latitude')\n",
    "plt.ylabel('Wind Speed (mph)')\n",
    "plt.title(\"Northern Hemisphere & Wind Speed at \" + df_date)\n",
    "print(f\"The r-squared is: {reg[2]}\")"
   ]
  },
  {
   "cell_type": "code",
   "execution_count": null,
   "metadata": {},
   "outputs": [],
   "source": [
    "# SOUTHERN WIND SPEED VS LATITUDE\n",
    "y_axis = south_cities['Wind Speed'] \n",
    "x_axis = south_cities['Latitude']\n",
    "reg = lin_reg(x_axis,y_axis)\n",
    "plt.scatter(x_axis, y_axis, marker='.', color='slategray')\n",
    "plt.plot(x_axis,reg[0],\"b-\")\n",
    "plt.annotate(reg[1],(-50,20),fontsize=15,color=\"b\") \n",
    "plt.xlabel('Latitude')\n",
    "plt.ylabel('Wind Speed (mph)')\n",
    "plt.title(\"Southern Hemisphere & Wind Speed at \" + df_date)\n",
    "print(f\"The r-squared is: {reg[2]}\")"
   ]
  },
  {
   "cell_type": "code",
   "execution_count": null,
   "metadata": {},
   "outputs": [],
   "source": []
  }
 ],
 "metadata": {
  "kernelspec": {
   "display_name": "Python 3",
   "language": "python",
   "name": "python3"
  },
  "language_info": {
   "codemirror_mode": {
    "name": "ipython",
    "version": 3
   },
   "file_extension": ".py",
   "mimetype": "text/x-python",
   "name": "python",
   "nbconvert_exporter": "python",
   "pygments_lexer": "ipython3",
   "version": "3.7.4"
  }
 },
 "nbformat": 4,
 "nbformat_minor": 2
}
